{
  "nbformat": 4,
  "nbformat_minor": 0,
  "metadata": {
    "colab": {
      "name": "Capstone Project - The Battle of Neighborhoods (Week 1).ipynb",
      "provenance": [],
      "collapsed_sections": []
    },
    "kernelspec": {
      "name": "python3",
      "display_name": "Python 3"
    },
    "language_info": {
      "name": "python"
    }
  },
  "cells": [
    {
      "cell_type": "markdown",
      "metadata": {
        "id": "xs0MYybXnNo2"
      },
      "source": [
        "# **Capstone Project - The Battle of Neighborhoods (Week 1)**"
      ]
    },
    {
      "cell_type": "markdown",
      "metadata": {
        "id": "1ycP8t2lnXCC"
      },
      "source": [
        "## Table of contents\n",
        "* [Introduction: Business Problem](#introduction)\n",
        "* [Data](#data)\n"
      ]
    },
    {
      "cell_type": "markdown",
      "metadata": {
        "id": "e1y2ajcZnc6U"
      },
      "source": [
        "## Introduction: Business Problem <a name=\"introduction\"></a>"
      ]
    },
    {
      "cell_type": "markdown",
      "metadata": {
        "id": "JBvjR1ugEYuV"
      },
      "source": [
        "This project has the purpose of finding an ideal location to build a hospital. Therefore, during this project he will focus on Mexico City, Mexico.\n",
        "\n",
        "The purpose of this project is to detect the areas where there are no hospitals in the vicinity of the city center. The benefits that can be obtained from selecting a location where there are no hospitals in the surroundings is the one that will be able to provide people with medical attention to people faster and in time to people around them.\n",
        "\n",
        "It will try to use what you have learned in these latest IBM Data Science courses to try to detect the best possible location for stakeholders. "
      ]
    },
    {
      "cell_type": "markdown",
      "metadata": {
        "id": "YbEZcG6EE3I1"
      },
      "source": [
        "## Data <a name=\"data\"></a>"
      ]
    },
    {
      "cell_type": "markdown",
      "metadata": {
        "id": "tlat7ofYE9Iz"
      },
      "source": [
        "To solve the problem, the following factors will be taken into consideration:\n",
        "\n",
        "*   number of existing hospital in the neighborhood\n",
        "*   number of and distance to hospitals in the neighborhood, if any distance of neighborhood from city center\n",
        "\n",
        "Following data sources will be needed to extract/generate the required information:\n",
        "\n",
        "\n",
        "*   The approximate addresses of the locations to be used will be obtained using Google Maps API reverse geocoding\n",
        "*   The number of hospitals and their location by neighborhood will be obtained using Foursquare API\n",
        "+   coordinate of Mexico City center will be obtained using Google Maps API geocoding"
      ]
    }
  ]
}